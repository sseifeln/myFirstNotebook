{
 "cells": [
  {
   "cell_type": "markdown",
   "metadata": {},
   "source": [
    "# My first Jupyter Notebook : CMS PhaseII Tk Trigger Work "
   ]
  },
  {
   "cell_type": "markdown",
   "metadata": {},
   "source": [
    "If you would like to see the code used to generate the notebook below then click on show code! By default all code snippets are hidden to make this notebook more legible."
   ]
  },
  {
   "cell_type": "code",
   "execution_count": 9,
   "metadata": {
    "scrolled": false
   },
   "outputs": [
    {
     "data": {
      "text/html": [
       "<script>\n",
       "  function code_toggle() {\n",
       "    if (code_shown){\n",
       "      $('div.input').hide('500');\n",
       "      $('#toggleButton').val('Show Code')\n",
       "    } else {\n",
       "      $('div.input').show('500');\n",
       "      $('#toggleButton').val('Hide Code')\n",
       "    }\n",
       "    code_shown = !code_shown\n",
       "  }\n",
       "\n",
       "  $( document ).ready(function(){\n",
       "    code_shown=false;\n",
       "    $('div.input').hide()\n",
       "  });\n",
       "</script>\n",
       "<form action=\"javascript:code_toggle()\"><input type=\"submit\" id=\"toggleButton\" value=\"Show Code\"></form>"
      ],
      "text/plain": [
       "<IPython.core.display.HTML object>"
      ]
     },
     "execution_count": 9,
     "metadata": {},
     "output_type": "execute_result"
    }
   ],
   "source": [
    "from IPython.display import HTML\n",
    "\n",
    "HTML('''<script>\n",
    "  function code_toggle() {\n",
    "    if (code_shown){\n",
    "      $('div.input').hide('500');\n",
    "      $('#toggleButton').val('Show Code')\n",
    "    } else {\n",
    "      $('div.input').show('500');\n",
    "      $('#toggleButton').val('Hide Code')\n",
    "    }\n",
    "    code_shown = !code_shown\n",
    "  }\n",
    "\n",
    "  $( document ).ready(function(){\n",
    "    code_shown=false;\n",
    "    $('div.input').hide()\n",
    "  });\n",
    "</script>\n",
    "<form action=\"javascript:code_toggle()\"><input type=\"submit\" id=\"toggleButton\" value=\"Show Code\"></form>''')"
   ]
  },
  {
   "cell_type": "markdown",
   "metadata": {},
   "source": [
    "### Study \n",
    "Using [TMTT Software](https://svnweb.cern.ch/cern/wsvn/UK-TrackTrig/software/cmssw/trunkSimpleCode9/README_SimpleCode.txt) to understand the effect of the choice of digitization (for stubs and track parameters) on an algorithm's resolution. \n",
    "\n",
    "---"
   ]
  },
  {
   "cell_type": "markdown",
   "metadata": {},
   "source": [
    "### Method \n",
    "This was done by reducing the number of bits in the configuration parameters of two **TMTrackProducer** processes : \n",
    "\n",
    "* **TrackDigi** \n",
    "    - RtBits , ZBits, BendBits, PhiSectorBits, PhiSBits, PhiOBits\n",
    "* **StubDigitize** \n",
    "    - d0Bits , oneOver2rBits , phi0Bits , z0Bits , tanlambdaBits , chisquaredBits\n",
    "    \n",
    "and looking at the changes in the resolution of ($z0$,$d0$,$\\eta$,$\\phi$) \n",
    "for the two fitting algorithms KF4ParamsComb,KF5ParamsComb."
   ]
  },
  {
   "cell_type": "markdown",
   "metadata": {},
   "source": [
    "### Monte Carlo \n",
    "Monte Carlo samples used in this study were made with the D17 (=T5) tilted tracker geometry and use Seb Viret's Dec. 2017 stub window sizes which you can find in CMSSW 9.3.7 in file L1Trigger/TrackTrigger/python/TTStubAlgorithmRegister_cfi.py and consist of 1000 $t\\bar{t}$ events with PU200.\n",
    "\n",
    "---"
   ]
  },
  {
   "cell_type": "markdown",
   "metadata": {},
   "source": [
    "### Analyis Code \n",
    "\n",
    "Now some code to look at the results of the study.\n",
    "\n",
    "---"
   ]
  },
  {
   "cell_type": "code",
   "execution_count": 3,
   "metadata": {},
   "outputs": [
    {
     "name": "stdout",
     "output_type": "stream",
     "text": [
      "Welcome to JupyROOT 6.12/06\n"
     ]
    }
   ],
   "source": [
    "import ctypes\n",
    "import ROOT\n",
    "import QuickLook as QL\n",
    "%jsroot on"
   ]
  },
  {
   "cell_type": "code",
   "execution_count": 2,
   "metadata": {},
   "outputs": [],
   "source": [
    "%%cpp\n",
    "class DTCdigis\n",
    "{\n",
    "    private :\n",
    "        std::unordered_map<std::string,uint32_t> _map_ = {{\"Rt\",12},{\"Z\",14},{\"Bend\",6},{\"PhiSector\",6},{\"PhiS\",13},{\"PhiO\",15}};\n",
    "    public : \n",
    "        DTCdigis(){;}\n",
    "        uint32_t returnNbits(std::string cKey) {auto it = _map_.find(cKey); return (it != _map_.end()) ?  it->second : 0 ;}\n",
    "        void changeNbits(std::string cKey, uint32_t cNbits){ auto it = _map_.find(cKey); if (it != _map_.end()) it->second = cNbits ; }\n",
    "        std::string getKey(size_t cIndex)\n",
    "        {\n",
    "            std::vector<std::string> retval; \n",
    "            for (auto const& element : _map_) \n",
    "            {\n",
    "                retval.push_back(element.first);\n",
    "            }\n",
    "            return retval[cIndex];\n",
    "        }\n",
    "        size_t getSize(){return _map_.size();}\n",
    "        \n",
    "};\n",
    "class KFdigis\n",
    "{\n",
    "    private :\n",
    "        std::unordered_map<std::string,uint32_t> _map_ = {{\"d0\",12},{\"oneOver2r\",18},{\"phi0\",18},{\"z0\",18},{\"tanlambda\",18},{\"chisquared\",17}};\n",
    "    public : \n",
    "        KFdigis(){;}\n",
    "        uint32_t returnNbits(std::string cKey) {auto it = _map_.find(cKey); return (it != _map_.end()) ?  it->second : 0 ;}\n",
    "        void changeNbits(std::string cKey, uint32_t cNbits){ auto it = _map_.find(cKey); if (it != _map_.end()) it->second = cNbits ; }\n",
    "        std::string getKey(size_t cIndex)\n",
    "        {\n",
    "            std::vector<std::string> retval; \n",
    "            for (auto const& element : _map_) \n",
    "            {\n",
    "                retval.push_back(element.first);\n",
    "            }\n",
    "            return retval[cIndex];\n",
    "        }\n",
    "        size_t getSize(){return _map_.size();}\n",
    "        \n",
    "};"
   ]
  },
  {
   "cell_type": "code",
   "execution_count": 35,
   "metadata": {},
   "outputs": [],
   "source": [
    "def drawScanResult_DTC(pDigiVarName, pDigiScanRange,pVarName ) :\n",
    "    cCanvasName = 'cScan%s_%s' % (pDigiVarName,pVarName)\n",
    "    cCanvas = ROOT.gROOT.FindObject(cCanvasName)\n",
    "    if(not cCanvas):\n",
    "        cCanvas = ROOT.TCanvas(cCanvasName,\"\",350*2,350)\n",
    "        cCanvas.Divide(3,1)\n",
    "    else : \n",
    "        cCanvas.Clear()\n",
    "        cCanvas.Divide(3,1)\n",
    "        \n",
    "    cDTCdigi = ROOT.DTCdigis()\n",
    "    cDefValue = cDTCdigi.returnNbits(pDigiVarName)\n",
    "    cSteps = pDigiScanRange[1] - pDigiScanRange[0]\n",
    "    cProfName='hResolution%s_%s'%(pDigiVarName,pVarName)\n",
    "    cProfTitle='Resolution [%s scan]; Number of %s bits; #sigma_{%s}'%(pDigiVarName,pDigiVarName,pVarName)\n",
    "    cProfResolution = ROOT.gROOT.FindObject(cProfName)\n",
    "    if(cProfResolution) :\n",
    "        cProfResolution.Delete()\n",
    "    cProfResolution = ROOT.TH1D(cProfName,cProfTitle,cSteps+1,cDefValue+pDigiScanRange[0],cDefValue+pDigiScanRange[1]+1)\n",
    "    cProfResolution.GetYaxis().SetTitleOffset(1.2)\n",
    "    \n",
    "    cProfName='hEfficiency%s'%(pDigiVarName)\n",
    "    cProfTitle='Efficiency [%s scan]; Number of %s bits; #epsilon'%(pDigiVarName,pDigiVarName)\n",
    "    cProfEfficiency = ROOT.gROOT.FindObject(cProfName)\n",
    "    if(cProfEfficiency) :\n",
    "        cProfEfficiency.Delete()\n",
    "    cProfEfficiency = ROOT.TH1D(cProfName,cProfTitle,cSteps+1,cDefValue+pDigiScanRange[0],cDefValue+pDigiScanRange[1]+1)\n",
    "    cProfEfficiency.GetYaxis().SetTitleOffset(1.2)\n",
    "\n",
    "\n",
    "    cHists=list()\n",
    "    cHistName='hResolution%s_%s_2D' %(pDigiVarName, pVarName)\n",
    "    cResolution2D = ROOT.gROOT.FindObject(cHistName)\n",
    "    if(cResolution2D) :\n",
    "        cResolution2D.Delete()\n",
    "    \n",
    "    cDigiNames=['Rt','Z','Bend','PhiSector','PhiS','PhiO']\n",
    "    for cDigiValue in range(cDefValue+pDigiScanRange[0],cDefValue+pDigiScanRange[1]+1) : \n",
    "        #cFileName='./data/Hists_%dRtBits_%dZBits_%dBendBits_%dPhiSectorBits_%dPhiSBits_%dPhiOBits.root' % (cDigiValue, QL.TMTT_defZ_bits, QL.TMTT_defBend_bits, QL.TMTT_defPhiSector_bits, QL.TMTT_defPhiS_bits, QL.TMTT_defPhiO_bits)\n",
    "        cFileName='./data/Hists'\n",
    "        cHistName='hResolutionVs%s_'%(pVarName)\n",
    "        for (cIndex,cDigiName) in enumerate(cDigiNames) : \n",
    "            cKeyValue = cDTCdigi.returnNbits(cDigiName)\n",
    "            if( cDigiName == pDigiVarName ) : \n",
    "                cKeyValue=cDigiValue\n",
    "            cFileName='%s_%d%sBits' % (cFileName,cKeyValue,cDigiName)\n",
    "            cHistName='%s_%d%sBits' % (cHistName,cKeyValue,cDigiName)\n",
    "        cFileName='%s.root'%(cFileName)\n",
    "        cEff = QL.getAbsoluteAlgEfficiency(cFileName, \"eta\", \"KF4ParamsComb\")\n",
    "        cHists.append(QL.getFoldedResolution(cFileName, pVarName, \"KF5ParamsComb\").Clone(cHistName))\n",
    "        cHistIndex=len(cHists)-1\n",
    "        cResolution = cHists[cHistIndex].GetRMS()\n",
    "        cResolutionError = cResolution/(2*(cHists[cHistIndex].GetEntries()-1))**0.5\n",
    "        #print('%s = %d bits : Resolution = %.3f ± %.3f, Eff = %.3f ± %.3f '%(pDigiVarName, cDigiValue, cResolution,cResolutionError,cEff[0]*100,cEff[1]*100))\n",
    "        cHists[cHistIndex].SetStats(0)\n",
    "        cHists[cHistIndex].GetXaxis().SetTitle(\"#eta_{0,KF} - #eta_{0,TP}\")\n",
    "        cHists[cHistIndex].GetXaxis().SetTitleOffset(1.2)\n",
    "        cHists[cHistIndex].GetYaxis().SetRangeUser(0,25e3)\n",
    "        cHists[cHistIndex].SetLineColor(cHistIndex+1)\n",
    "        cHists[cHistIndex].SetFillStyle(3001)\n",
    "        cHists[cHistIndex].SetFillColor(cHistIndex+1)\n",
    "\n",
    "        cHistName='hResolution%s_%s_2D' %(pDigiVarName, pVarName)\n",
    "        cResolution2D = ROOT.gROOT.FindObject(cHistName)\n",
    "        cNbinsX = cProfResolution.GetXaxis().GetNbins()\n",
    "        cXmin=cProfResolution.GetXaxis().GetXmin()\n",
    "        cXmax=cProfResolution.GetXaxis().GetXmax()\n",
    "        cNbinsY=cHists[cHistIndex].GetXaxis().GetNbins()\n",
    "        cYmin=cHists[cHistIndex].GetXaxis().GetXmin()\n",
    "        cYmax=cHists[cHistIndex].GetXaxis().GetXmax()\n",
    "        if(not cResolution2D) :\n",
    "            cHistTitle='%s Resolution vs number of bits [%s scan]; Number of %s bits; %s_{KF} - %s_{TP}'%(pVarName, pDigiVarName, pDigiVarName, pVarName,pVarName)\n",
    "            cResolution2D = ROOT.TH2D(cHistName,cHistTitle,cNbinsX,cXmin,cXmax,cNbinsY,cYmin,cYmax)\n",
    "            cResolution2D.SetStats(0)\n",
    "            cResolution2D.GetYaxis().SetTitleOffset(1.2)\n",
    "\n",
    "        for iBin in range(1,cNbinsY) :\n",
    "            cBin = cResolution2D.FindBin(cDigiValue,cHists[cHistIndex].GetBinCenter(iBin))\n",
    "            cResolution2D.SetBinContent(cBin,cHists[cHistIndex].GetBinContent(iBin))\n",
    "\n",
    "        cBin = cProfResolution.FindBin(cDigiValue)\n",
    "        cProfResolution.SetBinContent( cBin, cResolution)\n",
    "        cProfResolution.SetBinError( cBin, cResolutionError)\n",
    "        cProfEfficiency.SetBinContent( cBin, cEff[0])\n",
    "        cProfEfficiency.SetBinError( cBin, cEff[1])\n",
    "    cCanvas.cd()\n",
    "    cCanvas.cd(1)\n",
    "    cResolution2D.DrawCopy(\"colz\")\n",
    "    cCanvas.cd(2)\n",
    "    cProfResolution.SetStats(0)\n",
    "    cProfResolution.DrawCopy(\"hist\")\n",
    "    cCanvas.cd(3)\n",
    "    cProfEfficiency.SetStats(0)\n",
    "    cProfEfficiency.DrawCopy(\"hist\")\n",
    "    return cCanvas"
   ]
  },
  {
   "cell_type": "code",
   "execution_count": 36,
   "metadata": {},
   "outputs": [
    {
     "data": {
      "text/html": [
       "\n",
       "<div id=\"root_plot_14\"\n",
       "     style=\"width: 696px; height: 322px\">\n",
       "</div>\n",
       "\n",
       "<script>\n",
       " requirejs.config({\n",
       "     paths: {\n",
       "       'JSRootCore' : 'https://root.cern.ch/js/notebook//scripts/JSRootCore',\n",
       "     }\n",
       "   });\n",
       " require(['JSRootCore'],\n",
       "     function(Core) {\n",
       "       var obj = Core.JSONR_unref({\"_typename\":\"TCanvas\",\"fUniqueID\":0,\"fBits\":53673992,\"fLineColor\":1,\"fLineStyle\":1,\"fLineWidth\":1,\"fFillColor\":0,\"fFillStyle\":1001,\"fLeftMargin\":0.1,\"fRightMargin\":0.1,\"fBottomMargin\":0.1,\"fTopMargin\":0.1,\"fXfile\":2,\"fYfile\":2,\"fAfile\":1,\"fXstat\":0.99,\"fYstat\":0.99,\"fAstat\":2,\"fFrameFillColor\":0,\"fFrameLineColor\":1,\"fFrameFillStyle\":1001,\"fFrameLineStyle\":1,\"fFrameLineWidth\":1,\"fFrameBorderSize\":1,\"fFrameBorderMode\":0,\"fX1\":0,\"fY1\":0,\"fX2\":1,\"fY2\":1,\"fXtoAbsPixelk\":5e-5,\"fXtoPixelk\":5e-5,\"fXtoPixel\":696,\"fYtoAbsPixelk\":322.00005,\"fYtoPixelk\":322.00005,\"fYtoPixel\":-322,\"fUtoAbsPixelk\":5e-5,\"fUtoPixelk\":5e-5,\"fUtoPixel\":696,\"fVtoAbsPixelk\":322.00005,\"fVtoPixelk\":322,\"fVtoPixel\":-322,\"fAbsPixeltoXk\":0,\"fPixeltoXk\":0,\"fPixeltoX\":0.0014367816091954,\"fAbsPixeltoYk\":1,\"fPixeltoYk\":0,\"fPixeltoY\":-0.0031055900621118,\"fXlowNDC\":0,\"fYlowNDC\":0,\"fXUpNDC\":0,\"fYUpNDC\":0,\"fWNDC\":1,\"fHNDC\":1,\"fAbsXlowNDC\":0,\"fAbsYlowNDC\":0,\"fAbsWNDC\":1,\"fAbsHNDC\":1,\"fUxmin\":0,\"fUymin\":0,\"fUxmax\":1,\"fUymax\":1,\"fTheta\":30,\"fPhi\":30,\"fAspectRatio\":0,\"fNumber\":0,\"fTickx\":0,\"fTicky\":0,\"fLogx\":0,\"fLogy\":0,\"fLogz\":0,\"fPadPaint\":0,\"fCrosshair\":0,\"fCrosshairPos\":0,\"fBorderSize\":2,\"fBorderMode\":0,\"fModified\":false,\"fGridx\":false,\"fGridy\":false,\"fAbsCoord\":false,\"fEditable\":true,\"fFixedAspectRatio\":false,\"fPrimitives\":{\"_typename\":\"TList\",\"name\":\"TList\",\"arr\":[{\"_typename\":\"TPad\",\"fUniqueID\":0,\"fBits\":50331657,\"fLineColor\":1,\"fLineStyle\":1,\"fLineWidth\":1,\"fFillColor\":0,\"fFillStyle\":1001,\"fLeftMargin\":0.1,\"fRightMargin\":0.1,\"fBottomMargin\":0.1,\"fTopMargin\":0.1,\"fXfile\":2,\"fYfile\":2,\"fAfile\":1,\"fXstat\":0.99,\"fYstat\":0.99,\"fAstat\":2,\"fFrameFillColor\":0,\"fFrameLineColor\":1,\"fFrameFillStyle\":1001,\"fFrameLineStyle\":1,\"fFrameLineWidth\":1,\"fFrameBorderSize\":1,\"fFrameBorderMode\":0,\"fX1\":7.12499993480742,\"fY1\":-1.25000001862645,\"fX2\":15.8750000651926,\"fY2\":1.25000001862645,\"fXtoAbsPixelk\":-170.619374709388,\"fXtoPixelk\":-177.57937455382,\"fXtoPixel\":24.923428235599,\"fYtoAbsPixelk\":161.00005,\"fYtoPixelk\":157.780050071973,\"fYtoPixel\":-126.223998176694,\"fUtoAbsPixelk\":6.96004984443188,\"fUtoPixelk\":5e-5,\"fUtoPixel\":218.080000311136,\"fVtoAbsPixelk\":318.780050071973,\"fVtoPixelk\":315.560000143945,\"fVtoPixel\":-315.560000143945,\"fAbsPixeltoXk\":6.84574461813751,\"fPixeltoXk\":7.12499993480742,\"fPixeltoX\":0.0401228912229525,\"fAbsPixeltoYk\":1.27551022250638,\"fPixeltoYk\":-1.25000001862645,\"fPixeltoY\":-0.00792242374227567,\"fXlowNDC\":0.00999999977648258,\"fYlowNDC\":0.00999999977648258,\"fXUpNDC\":0,\"fYUpNDC\":0,\"fWNDC\":0.313333333780368,\"fHNDC\":0.980000000447035,\"fAbsXlowNDC\":0.00999999977648258,\"fAbsYlowNDC\":0.00999999977648258,\"fAbsWNDC\":0.313333333780368,\"fAbsHNDC\":0.980000000447035,\"fUxmin\":8,\"fUymin\":-1,\"fUxmax\":15,\"fUymax\":1,\"fTheta\":30,\"fPhi\":30,\"fAspectRatio\":0,\"fNumber\":1,\"fTickx\":0,\"fTicky\":0,\"fLogx\":0,\"fLogy\":0,\"fLogz\":0,\"fPadPaint\":0,\"fCrosshair\":0,\"fCrosshairPos\":0,\"fBorderSize\":2,\"fBorderMode\":0,\"fModified\":false,\"fGridx\":false,\"fGridy\":false,\"fAbsCoord\":false,\"fEditable\":true,\"fFixedAspectRatio\":false,\"fPrimitives\":{\"_typename\":\"TList\",\"name\":\"TList\",\"arr\":[{\"_typename\":\"TFrame\",\"fUniqueID\":0,\"fBits\":50331656,\"fLineColor\":1,\"fLineStyle\":1,\"fLineWidth\":1,\"fFillColor\":0,\"fFillStyle\":1001,\"fX1\":8,\"fY1\":-1,\"fX2\":15,\"fY2\":1,\"fBorderSize\":1,\"fBorderMode\":0},{\"_typename\":\"TH2D\",\"fUniqueID\":0,\"fBits\":50332169,\"fName\":\"hResolutionRt_D0_2D_copy\",\"fTitle\":\"D0 Resolution vs number of bits [Rt scan]\",\"fLineColor\":602,\"fLineStyle\":1,\"fLineWidth\":1,\"fFillColor\":0,\"fFillStyle\":1001,\"fMarkerColor\":1,\"fMarkerStyle\":1,\"fMarkerSize\":1,\"fNcells\":918,\"fXaxis\":{\"_typename\":\"TAxis\",\"fUniqueID\":0,\"fBits\":50331648,\"fName\":\"xaxis\",\"fTitle\":\" Number of Rt bits\",\"fNdivisions\":510,\"fAxisColor\":1,\"fLabelColor\":1,\"fLabelFont\":42,\"fLabelOffset\":0.005,\"fLabelSize\":0.035,\"fTickLength\":0.03,\"fTitleOffset\":1,\"fTitleSize\":0.035,\"fTitleColor\":1,\"fTitleFont\":42,\"fNbins\":7,\"fXmin\":8,\"fXmax\":15,\"fXbins\":[],\"fFirst\":0,\"fLast\":0,\"fBits2\":0,\"fTimeDisplay\":false,\"fTimeFormat\":\"\",\"fLabels\":null,\"fModLabs\":null},\"fYaxis\":{\"_typename\":\"TAxis\",\"fUniqueID\":0,\"fBits\":50331656,\"fName\":\"yaxis\",\"fTitle\":\" D0_{KF} - D0_{TP}\",\"fNdivisions\":510,\"fAxisColor\":1,\"fLabelColor\":1,\"fLabelFont\":42,\"fLabelOffset\":0.005,\"fLabelSize\":0.035,\"fTickLength\":0.03,\"fTitleOffset\":1.2,\"fTitleSize\":0.035,\"fTitleColor\":1,\"fTitleFont\":42,\"fNbins\":100,\"fXmin\":-1,\"fXmax\":1,\"fXbins\":[],\"fFirst\":0,\"fLast\":0,\"fBits2\":0,\"fTimeDisplay\":false,\"fTimeFormat\":\"\",\"fLabels\":null,\"fModLabs\":null},\"fZaxis\":{\"_typename\":\"TAxis\",\"fUniqueID\":0,\"fBits\":50331648,\"fName\":\"zaxis\",\"fTitle\":\"\",\"fNdivisions\":510,\"fAxisColor\":1,\"fLabelColor\":1,\"fLabelFont\":42,\"fLabelOffset\":0.005,\"fLabelSize\":0.035,\"fTickLength\":0.03,\"fTitleOffset\":1,\"fTitleSize\":0.035,\"fTitleColor\":1,\"fTitleFont\":42,\"fNbins\":1,\"fXmin\":0,\"fXmax\":1,\"fXbins\":[],\"fFirst\":0,\"fLast\":0,\"fBits2\":0,\"fTimeDisplay\":false,\"fTimeFormat\":\"\",\"fLabels\":null,\"fModLabs\":null},\"fBarOffset\":0,\"fBarWidth\":1000,\"fEntries\":693,\"fTsumw\":0,\"fTsumw2\":0,\"fTsumwx\":0,\"fTsumwx2\":0,\"fMaximum\":-1111,\"fMinimum\":-1111,\"fNormFactor\":0,\"fContour\":[0,555.75,1111.5,1667.25,2223,2778.75,3334.5,3890.25,4446,5001.75,5557.5,6113.25,6669,7224.75,7780.5,8336.25,8892,9447.75,10003.5,10559.25],\"fSumw2\":[],\"fOption\":\"\",\"fFunctions\":{\"_typename\":\"TList\",\"name\":\"TList\",\"arr\":[{\"_typename\":\"TPaletteAxis\",\"fUniqueID\":0,\"fBits\":50331648,\"fLineColor\":1,\"fLineStyle\":1,\"fLineWidth\":1,\"fFillColor\":1178,\"fFillStyle\":1001,\"fX1\":15.0437500006519,\"fY1\":-1,\"fX2\":15.4375000065193,\"fY2\":1,\"fX1NDC\":0.904999994039535,\"fY1NDC\":0.100000005960465,\"fX2NDC\":0.949999994039535,\"fY2NDC\":0.899999994039535,\"fBorderSize\":4,\"fInit\":1,\"fShadowColor\":1,\"fCornerRadius\":0,\"fOption\":\"br\",\"fName\":\"TPave\",\"fAxis\":{\"_typename\":\"TGaxis\",\"fUniqueID\":0,\"fBits\":50331648,\"fLineColor\":1,\"fLineStyle\":1,\"fLineWidth\":1,\"fX1\":0,\"fY1\":0,\"fX2\":0,\"fY2\":0,\"fTextAngle\":0,\"fTextSize\":0.04,\"fTextAlign\":11,\"fTextColor\":1,\"fTextFont\":42,\"fWmin\":0,\"fWmax\":0,\"fGridLength\":0,\"fTickSize\":0.03,\"fLabelOffset\":0.005,\"fLabelSize\":0.035,\"fTitleOffset\":1,\"fTitleSize\":0.035,\"fNdiv\":0,\"fLabelColor\":1,\"fLabelFont\":42,\"fNModLabs\":0,\"fChopt\":\"\",\"fName\":\"\",\"fTitle\":\"\",\"fTimeFormat\":\"\",\"fFunctionName\":\"\",\"fModLabs\":null},\"fName\":\"palette\"}],\"opt\":[\"br\"]},\"fBufferSize\":0,\"fBuffer\":[],\"fBinStatErrOpt\":0,\"fScalefactor\":1,\"fTsumwy\":0,\"fTsumwy2\":0,\"fTsumwxy\":0,\"fArray\":[0,0,0,0,0,0,0,0,0,0,4,0,0,0,0,0,0,0,0,3,0,0,0,0,0,0,0,0,2,0,1,0,0,0,0,0,0,0,0,0,0,0,0,0,0,0,1,2,0,0,0,0,0,0,0,0,2,0,1,0,0,0,0,0,1,0,2,2,3,3,3,0,0,0,1,1,4,4,4,4,0,0,1,2,0,0,0,0,0,0,0,1,4,4,1,4,0,0,0,0,5,4,1,0,0,1,1,0,0,6,2,3,6,7,6,7,0,0,12,9,8,1,2,4,4,0,0,3,5,11,10,9,11,10,0,0,1,10,8,12,13,11,11,0,0,12,8,7,6,5,6,6,0,0,4,6,8,5,6,6,6,0,0,6,16,6,10,7,7,7,0,0,13,8,5,4,6,6,6,0,0,16,7,5,6,6,7,8,0,0,11,9,16,10,18,15,18,0,0,19,5,18,22,11,19,12,0,0,25,24,25,13,16,7,17,0,0,24,24,27,32,25,26,24,0,0,25,21,28,25,24,21,18,0,0,26,22,18,23,18,14,16,0,0,17,16,15,7,12,21,20,0,0,24,17,20,34,29,26,27,0,0,38,28,35,31,40,42,45,0,0,40,36,39,46,28,41,37,0,0,29,49,40,40,36,36,34,0,0,43,58,32,32,45,29,31,0,0,62,43,43,53,47,41,46,0,0,67,59,67,50,52,66,63,0,0,82,59,65,65,55,55,47,0,0,103,121,74,69,75,68,67,0,0,163,95,107,101,93,103,107,0,0,152,110,120,105,117,107,110,0,0,232,181,142,143,136,130,138,0,0,274,240,215,207,246,238,226,0,0,381,292,244,237,194,228,212,0,0,484,389,321,359,342,314,313,0,0,712,552,508,503,506,497,467,0,0,976,791,777,711,661,622,625,0,0,1364,1140,1078,1050,1062,1077,1073,0,0,2275,1788,1687,1597,1624,1634,1658,0,0,3123,2953,2705,2797,2725,2730,2773,0,0,5091,4502,4744,4663,4730,4649,4607,0,0,7115,7689,7605,7647,7749,7759,7684,0,0,9354,10580,10938,11115,10978,11032,11094,0,0,9356,10607,10969,10889,10954,11060,11027,0,0,7288,7489,7667,7673,7735,7724,7747,0,0,4658,4804,4647,4799,4742,4712,4688,0,0,3313,2851,2889,2825,2777,2775,2780,0,0,2177,1789,1644,1587,1652,1627,1634,0,0,1393,1116,1078,1051,960,952,910,0,0,895,701,715,659,672,723,732,0,0,681,534,447,505,482,440,419,0,0,449,434,417,366,385,373,398,0,0,453,315,265,318,276,300,279,0,0,275,250,205,204,192,215,216,0,0,171,157,197,178,186,161,142,0,0,162,144,97,109,100,95,112,0,0,139,93,91,81,125,113,100,0,0,102,82,84,87,83,91,85,0,0,109,48,51,44,57,57,67,0,0,52,54,37,56,51,48,49,0,0,56,41,40,34,39,43,36,0,0,43,34,38,44,32,34,40,0,0,35,35,39,33,29,25,27,0,0,19,17,21,12,26,21,18,0,0,42,32,19,38,34,36,38,0,0,19,15,26,20,23,22,22,0,0,19,18,14,28,22,23,22,0,0,17,21,27,15,25,17,17,0,0,9,16,9,12,7,14,14,0,0,15,13,18,16,15,17,18,0,0,15,20,14,7,6,4,3,0,0,12,3,6,10,14,14,14,0,0,15,14,7,8,7,10,10,0,0,8,17,16,9,8,5,5,0,0,9,6,3,4,11,9,11,0,0,13,4,11,9,7,9,9,0,0,7,13,11,8,7,16,12,0,0,8,3,2,13,12,10,13,0,0,6,2,6,5,7,0,0,0,0,5,3,6,8,3,2,5,0,0,0,5,9,1,4,6,3,0,0,4,3,4,2,4,4,4,0,0,8,4,1,3,0,1,1,0,0,4,8,9,6,9,8,8,0,0,2,4,4,7,5,5,5,0,0,4,1,3,2,2,2,4,0,0,0,4,2,5,3,3,1,0,0,0,1,3,1,2,2,2,0,0,0,1,0,2,1,1,1,0,0,1,1,0,0,1,1,1,0,0,1,0,0,2,4,4,4,0,0,2,0,2,1,1,1,1,0,0,0,0,0,0,0,0,0,0,0,0,0,0,0,0,0,0,0]},{\"_typename\":\"TPaveText\",\"fUniqueID\":0,\"fBits\":50331657,\"fLineColor\":1,\"fLineStyle\":1,\"fLineWidth\":1,\"fFillColor\":0,\"fFillStyle\":0,\"fX1\":8.43749995436519,\"fY1\":1.1000000262633,\"fX2\":14.5625000456348,\"fY2\":1.23750003036112,\"fX1NDC\":0.15,\"fY1NDC\":0.940000003948808,\"fX2NDC\":0.85,\"fY2NDC\":0.995000004768372,\"fBorderSize\":0,\"fInit\":1,\"fShadowColor\":1,\"fCornerRadius\":0,\"fOption\":\"blNDC\",\"fName\":\"title\",\"fTextAngle\":0,\"fTextSize\":0,\"fTextAlign\":22,\"fTextColor\":1,\"fTextFont\":42,\"fLabel\":\"\",\"fLongest\":41,\"fMargin\":0.05,\"fLines\":{\"_typename\":\"TList\",\"name\":\"TList\",\"arr\":[{\"_typename\":\"TLatex\",\"fUniqueID\":0,\"fBits\":50331648,\"fName\":\"\",\"fTitle\":\"D0 Resolution vs number of bits [Rt scan]\",\"fTextAngle\":0,\"fTextSize\":0,\"fTextAlign\":0,\"fTextColor\":0,\"fTextFont\":0,\"fX\":0,\"fY\":0,\"fLineColor\":1,\"fLineStyle\":1,\"fLineWidth\":2,\"fLimitFactorSize\":3,\"fOriginSize\":0.0467500016093254}],\"opt\":[\"\"]}}],\"opt\":[\"\",\"colz\",\"blNDC\"]},\"fExecs\":{\"_typename\":\"TList\",\"name\":\"TList\",\"arr\":[],\"opt\":[]},\"fName\":\"cScanRt_D0_1\",\"fTitle\":\"cScanRt_D0_1\",\"fNumPaletteColor\":0,\"fNextPaletteColor\":0},{\"_typename\":\"TPad\",\"fUniqueID\":0,\"fBits\":50331657,\"fLineColor\":1,\"fLineStyle\":1,\"fLineWidth\":1,\"fFillColor\":0,\"fFillStyle\":1001,\"fLeftMargin\":0.1,\"fRightMargin\":0.1,\"fBottomMargin\":0.1,\"fTopMargin\":0.1,\"fXfile\":2,\"fYfile\":2,\"fAfile\":1,\"fXstat\":0.99,\"fYstat\":0.99,\"fAstat\":2,\"fFrameFillColor\":0,\"fFrameLineColor\":1,\"fFrameFillStyle\":1001,\"fFrameLineStyle\":1,\"fFrameLineWidth\":1,\"fFrameBorderSize\":1,\"fFrameBorderMode\":0,\"fX1\":7.12499993480742,\"fY1\":0.0881867278229489,\"fX2\":15.8750000651926,\"fY2\":0.0999630708730171,\"fXtoAbsPixelk\":61.380625290612,\"fXtoPixelk\":-177.57937455382,\"fXtoPixel\":24.923428235599,\"fYtoAbsPixelk\":2681.8399342983,\"fYtoPixelk\":2678.61993437028,\"fYtoPixel\":-26796.0944074329,\"fUtoAbsPixelk\":238.960049844432,\"fUtoPixelk\":5e-5,\"fUtoPixel\":218.080000311136,\"fVtoAbsPixelk\":318.780050071973,\"fVtoPixelk\":315.560000143945,\"fVtoPixel\":-315.560000143945,\"fAbsPixeltoXk\":-2.46276614558747,\"fPixeltoXk\":7.12499993480742,\"fPixeltoX\":0.0401228912229525,\"fAbsPixeltoYk\":0.100083237636093,\"fPixeltoYk\":0.0881867278229489,\"fPixeltoY\":-3.73188713547229e-5,\"fXlowNDC\":0.343333333109816,\"fYlowNDC\":0.00999999977648258,\"fXUpNDC\":0,\"fYUpNDC\":0,\"fWNDC\":0.313333333780368,\"fHNDC\":0.980000000447035,\"fAbsXlowNDC\":0.343333333109816,\"fAbsYlowNDC\":0.00999999977648258,\"fAbsWNDC\":0.313333333780368,\"fAbsHNDC\":0.980000000447035,\"fUxmin\":8,\"fUymin\":0.0893643621981482,\"fUxmax\":15,\"fUymax\":0.0987854364978178,\"fTheta\":30,\"fPhi\":30,\"fAspectRatio\":0,\"fNumber\":2,\"fTickx\":0,\"fTicky\":0,\"fLogx\":0,\"fLogy\":0,\"fLogz\":0,\"fPadPaint\":0,\"fCrosshair\":0,\"fCrosshairPos\":0,\"fBorderSize\":2,\"fBorderMode\":0,\"fModified\":false,\"fGridx\":false,\"fGridy\":false,\"fAbsCoord\":false,\"fEditable\":true,\"fFixedAspectRatio\":false,\"fPrimitives\":{\"_typename\":\"TList\",\"name\":\"TList\",\"arr\":[{\"_typename\":\"TFrame\",\"fUniqueID\":0,\"fBits\":50331656,\"fLineColor\":1,\"fLineStyle\":1,\"fLineWidth\":1,\"fFillColor\":0,\"fFillStyle\":1001,\"fX1\":8,\"fY1\":0.0893643621981482,\"fX2\":15,\"fY2\":0.0987854364978178,\"fBorderSize\":1,\"fBorderMode\":0},{\"_typename\":\"TH1D\",\"fUniqueID\":0,\"fBits\":50332169,\"fName\":\"hResolutionRt_D0_copy\",\"fTitle\":\"Resolution [Rt scan]\",\"fLineColor\":602,\"fLineStyle\":1,\"fLineWidth\":1,\"fFillColor\":0,\"fFillStyle\":1001,\"fMarkerColor\":1,\"fMarkerStyle\":1,\"fMarkerSize\":1,\"fNcells\":9,\"fXaxis\":{\"_typename\":\"TAxis\",\"fUniqueID\":0,\"fBits\":50331656,\"fName\":\"xaxis\",\"fTitle\":\" Number of Rt bits\",\"fNdivisions\":510,\"fAxisColor\":1,\"fLabelColor\":1,\"fLabelFont\":42,\"fLabelOffset\":0.005,\"fLabelSize\":0.035,\"fTickLength\":0.03,\"fTitleOffset\":1,\"fTitleSize\":0.035,\"fTitleColor\":1,\"fTitleFont\":42,\"fNbins\":7,\"fXmin\":8,\"fXmax\":15,\"fXbins\":[],\"fFirst\":0,\"fLast\":0,\"fBits2\":0,\"fTimeDisplay\":false,\"fTimeFormat\":\"\",\"fLabels\":null,\"fModLabs\":null},\"fYaxis\":{\"_typename\":\"TAxis\",\"fUniqueID\":0,\"fBits\":50331656,\"fName\":\"yaxis\",\"fTitle\":\" #sigma_{D0}\",\"fNdivisions\":510,\"fAxisColor\":1,\"fLabelColor\":1,\"fLabelFont\":42,\"fLabelOffset\":0.005,\"fLabelSize\":0.035,\"fTickLength\":0.03,\"fTitleOffset\":1.2,\"fTitleSize\":0.035,\"fTitleColor\":1,\"fTitleFont\":42,\"fNbins\":1,\"fXmin\":0,\"fXmax\":1,\"fXbins\":[],\"fFirst\":0,\"fLast\":0,\"fBits2\":0,\"fTimeDisplay\":false,\"fTimeFormat\":\"\",\"fLabels\":null,\"fModLabs\":null},\"fZaxis\":{\"_typename\":\"TAxis\",\"fUniqueID\":0,\"fBits\":50331648,\"fName\":\"zaxis\",\"fTitle\":\"\",\"fNdivisions\":510,\"fAxisColor\":1,\"fLabelColor\":1,\"fLabelFont\":42,\"fLabelOffset\":0.005,\"fLabelSize\":0.035,\"fTickLength\":0.03,\"fTitleOffset\":1,\"fTitleSize\":0.035,\"fTitleColor\":1,\"fTitleFont\":42,\"fNbins\":1,\"fXmin\":0,\"fXmax\":1,\"fXbins\":[],\"fFirst\":0,\"fLast\":0,\"fBits2\":0,\"fTimeDisplay\":false,\"fTimeFormat\":\"\",\"fLabels\":null,\"fModLabs\":null},\"fBarOffset\":0,\"fBarWidth\":1000,\"fEntries\":7,\"fTsumw\":0,\"fTsumw2\":0,\"fTsumwx\":0,\"fTsumwx2\":0,\"fMaximum\":-1111,\"fMinimum\":-1111,\"fNormFactor\":0,\"fContour\":[],\"fSumw2\":[0,7.49366802825918e-8,6.60316489247401e-8,6.37770141521711e-8,6.35471743227854e-8,6.3878756481907e-8,6.34006616925352e-8,6.35416336072705e-8,0],\"fOption\":\"\",\"fFunctions\":{\"_typename\":\"TList\",\"name\":\"TList\",\"arr\":[],\"opt\":[]},\"fBufferSize\":0,\"fBuffer\":[],\"fBinStatErrOpt\":0,\"fArray\":[0,0.0983368139121193,0.0918250803310063,0.090156823921797,0.0899631486873928,0.0901373343123356,0.0897916218035754,0.0898072355312803,0]},{\"_typename\":\"TPaveText\",\"fUniqueID\":0,\"fBits\":50331657,\"fLineColor\":1,\"fLineStyle\":1,\"fLineWidth\":1,\"fFillColor\":0,\"fFillStyle\":0,\"fX1\":9.26592531826819,\"fY1\":0.0992564903365156,\"fX2\":13.7340746817318,\"fY2\":0.0999041892139208,\"fX1NDC\":0.244677183035257,\"fY1NDC\":0.940000003948808,\"fX2NDC\":0.755322816964743,\"fY2NDC\":0.995000004768372,\"fBorderSize\":0,\"fInit\":1,\"fShadowColor\":1,\"fCornerRadius\":0,\"fOption\":\"blNDC\",\"fName\":\"title\",\"fTextAngle\":0,\"fTextSize\":0,\"fTextAlign\":22,\"fTextColor\":1,\"fTextFont\":42,\"fLabel\":\"\",\"fLongest\":20,\"fMargin\":0.05,\"fLines\":{\"_typename\":\"TList\",\"name\":\"TList\",\"arr\":[{\"_typename\":\"TLatex\",\"fUniqueID\":0,\"fBits\":50331648,\"fName\":\"\",\"fTitle\":\"Resolution [Rt scan]\",\"fTextAngle\":0,\"fTextSize\":0,\"fTextAlign\":0,\"fTextColor\":0,\"fTextFont\":0,\"fX\":0,\"fY\":0,\"fLineColor\":1,\"fLineStyle\":1,\"fLineWidth\":2,\"fLimitFactorSize\":3,\"fOriginSize\":0.0467500016093254}],\"opt\":[\"\"]}}],\"opt\":[\"\",\"hist\",\"blNDC\"]},\"fExecs\":{\"_typename\":\"TList\",\"name\":\"TList\",\"arr\":[],\"opt\":[]},\"fName\":\"cScanRt_D0_2\",\"fTitle\":\"cScanRt_D0_2\",\"fNumPaletteColor\":0,\"fNextPaletteColor\":0},{\"_typename\":\"TPad\",\"fUniqueID\":0,\"fBits\":50331657,\"fLineColor\":1,\"fLineStyle\":1,\"fLineWidth\":1,\"fFillColor\":0,\"fFillStyle\":1001,\"fLeftMargin\":0.1,\"fRightMargin\":0.1,\"fBottomMargin\":0.1,\"fTopMargin\":0.1,\"fXfile\":2,\"fYfile\":2,\"fAfile\":1,\"fXstat\":0.99,\"fYstat\":0.99,\"fAstat\":2,\"fFrameFillColor\":0,\"fFrameLineColor\":1,\"fFrameFillStyle\":1001,\"fFrameLineStyle\":1,\"fFrameLineWidth\":1,\"fFrameBorderSize\":1,\"fFrameBorderMode\":0,\"fX1\":7.12499993480742,\"fY1\":0.939439096484808,\"fX2\":15.8750000651926,\"fY2\":0.947377207046371,\"fXtoAbsPixelk\":293.380625290612,\"fXtoPixelk\":-177.57937455382,\"fXtoPixel\":24.923428235599,\"fYtoAbsPixelk\":37663.8635082715,\"fYtoPixelk\":37660.6435083435,\"fYtoPixel\":-39752.5327591084,\"fUtoAbsPixelk\":470.960049844432,\"fUtoPixelk\":5e-5,\"fUtoPixel\":218.080000311136,\"fVtoAbsPixelk\":318.780050071973,\"fVtoPixelk\":315.560000143945,\"fVtoPixel\":-315.560000143945,\"fAbsPixeltoXk\":-11.7712769093124,\"fPixeltoXk\":7.12499993480742,\"fPixeltoX\":0.0401228912229525,\"fAbsPixeltoYk\":0.947458208172703,\"fPixeltoYk\":0.939439096484808,\"fPixeltoY\":-2.51556298578453e-5,\"fXlowNDC\":0.676666666443149,\"fYlowNDC\":0.00999999977648258,\"fXUpNDC\":0,\"fYUpNDC\":0,\"fWNDC\":0.313333333780368,\"fHNDC\":0.980000000447035,\"fAbsXlowNDC\":0.676666666443149,\"fAbsYlowNDC\":0.00999999977648258,\"fAbsWNDC\":0.313333333780368,\"fAbsHNDC\":0.980000000447035,\"fUxmin\":8,\"fUymin\":0.940232907588279,\"fUxmax\":15,\"fUymax\":0.9465833959429,\"fTheta\":30,\"fPhi\":30,\"fAspectRatio\":0,\"fNumber\":3,\"fTickx\":0,\"fTicky\":0,\"fLogx\":0,\"fLogy\":0,\"fLogz\":0,\"fPadPaint\":0,\"fCrosshair\":0,\"fCrosshairPos\":0,\"fBorderSize\":2,\"fBorderMode\":0,\"fModified\":false,\"fGridx\":false,\"fGridy\":false,\"fAbsCoord\":false,\"fEditable\":true,\"fFixedAspectRatio\":false,\"fPrimitives\":{\"_typename\":\"TList\",\"name\":\"TList\",\"arr\":[{\"_typename\":\"TFrame\",\"fUniqueID\":0,\"fBits\":50331656,\"fLineColor\":1,\"fLineStyle\":1,\"fLineWidth\":1,\"fFillColor\":0,\"fFillStyle\":1001,\"fX1\":8,\"fY1\":0.940232907588279,\"fX2\":15,\"fY2\":0.9465833959429,\"fBorderSize\":1,\"fBorderMode\":0},{\"_typename\":\"TH1D\",\"fUniqueID\":0,\"fBits\":50332169,\"fName\":\"hEfficiencyRt_copy\",\"fTitle\":\"Efficiency [Rt scan]\",\"fLineColor\":602,\"fLineStyle\":1,\"fLineWidth\":1,\"fFillColor\":0,\"fFillStyle\":1001,\"fMarkerColor\":1,\"fMarkerStyle\":1,\"fMarkerSize\":1,\"fNcells\":9,\"fXaxis\":{\"_typename\":\"TAxis\",\"fUniqueID\":0,\"fBits\":50331648,\"fName\":\"xaxis\",\"fTitle\":\" Number of Rt bits\",\"fNdivisions\":510,\"fAxisColor\":1,\"fLabelColor\":1,\"fLabelFont\":42,\"fLabelOffset\":0.005,\"fLabelSize\":0.035,\"fTickLength\":0.03,\"fTitleOffset\":1,\"fTitleSize\":0.035,\"fTitleColor\":1,\"fTitleFont\":42,\"fNbins\":7,\"fXmin\":8,\"fXmax\":15,\"fXbins\":[],\"fFirst\":0,\"fLast\":0,\"fBits2\":0,\"fTimeDisplay\":false,\"fTimeFormat\":\"\",\"fLabels\":null,\"fModLabs\":null},\"fYaxis\":{\"_typename\":\"TAxis\",\"fUniqueID\":0,\"fBits\":50331656,\"fName\":\"yaxis\",\"fTitle\":\" #epsilon\",\"fNdivisions\":510,\"fAxisColor\":1,\"fLabelColor\":1,\"fLabelFont\":42,\"fLabelOffset\":0.005,\"fLabelSize\":0.035,\"fTickLength\":0.03,\"fTitleOffset\":1.2,\"fTitleSize\":0.035,\"fTitleColor\":1,\"fTitleFont\":42,\"fNbins\":1,\"fXmin\":0,\"fXmax\":1,\"fXbins\":[],\"fFirst\":0,\"fLast\":0,\"fBits2\":0,\"fTimeDisplay\":false,\"fTimeFormat\":\"\",\"fLabels\":null,\"fModLabs\":null},\"fZaxis\":{\"_typename\":\"TAxis\",\"fUniqueID\":0,\"fBits\":50331648,\"fName\":\"zaxis\",\"fTitle\":\"\",\"fNdivisions\":510,\"fAxisColor\":1,\"fLabelColor\":1,\"fLabelFont\":42,\"fLabelOffset\":0.005,\"fLabelSize\":0.035,\"fTickLength\":0.03,\"fTitleOffset\":1,\"fTitleSize\":0.035,\"fTitleColor\":1,\"fTitleFont\":42,\"fNbins\":1,\"fXmin\":0,\"fXmax\":1,\"fXbins\":[],\"fFirst\":0,\"fLast\":0,\"fBits2\":0,\"fTimeDisplay\":false,\"fTimeFormat\":\"\",\"fLabels\":null,\"fModLabs\":null},\"fBarOffset\":0,\"fBarWidth\":1000,\"fEntries\":7,\"fTsumw\":0,\"fTsumw2\":0,\"fTsumwx\":0,\"fTsumwx2\":0,\"fMaximum\":-1111,\"fMinimum\":-1111,\"fNormFactor\":0,\"fContour\":[],\"fSumw2\":[0,3.50246221182402e-6,3.24903811502589e-6,3.21062414793675e-6,3.19314361965632e-6,3.18614797236807e-6,3.18264941244337e-6,3.19664070701985e-6,0],\"fOption\":\"\",\"fFunctions\":{\"_typename\":\"TList\",\"name\":\"TList\",\"arr\":[],\"opt\":[]},\"fBufferSize\":0,\"fBuffer\":[],\"fBinStatErrOpt\":0,\"fArray\":[0,0.940520911595292,0.945091409967443,0.945780115201603,0.946093163035312,0.946218382168795,0.946280991735537,0.94603055346857,0]},{\"_typename\":\"TPaveText\",\"fUniqueID\":0,\"fBits\":50331657,\"fLineColor\":1,\"fLineStyle\":1,\"fLineWidth\":1,\"fFillColor\":0,\"fFillStyle\":0,\"fX1\":9.36623254632557,\"fY1\":0.946900920444023,\"fX2\":13.6337674536744,\"fY2\":0.947337516531415,\"fX1NDC\":0.256140866070993,\"fY1NDC\":0.940000003948808,\"fX2NDC\":0.743859133929007,\"fY2NDC\":0.995000004768372,\"fBorderSize\":0,\"fInit\":1,\"fShadowColor\":1,\"fCornerRadius\":0,\"fOption\":\"blNDC\",\"fName\":\"title\",\"fTextAngle\":0,\"fTextSize\":0,\"fTextAlign\":22,\"fTextColor\":1,\"fTextFont\":42,\"fLabel\":\"\",\"fLongest\":20,\"fMargin\":0.05,\"fLines\":{\"_typename\":\"TList\",\"name\":\"TList\",\"arr\":[{\"_typename\":\"TLatex\",\"fUniqueID\":0,\"fBits\":50331648,\"fName\":\"\",\"fTitle\":\"Efficiency [Rt scan]\",\"fTextAngle\":0,\"fTextSize\":0,\"fTextAlign\":0,\"fTextColor\":0,\"fTextFont\":0,\"fX\":0,\"fY\":0,\"fLineColor\":1,\"fLineStyle\":1,\"fLineWidth\":2,\"fLimitFactorSize\":3,\"fOriginSize\":0.0467500016093254}],\"opt\":[\"\"]}}],\"opt\":[\"\",\"hist\",\"blNDC\"]},\"fExecs\":{\"_typename\":\"TList\",\"name\":\"TList\",\"arr\":[],\"opt\":[]},\"fName\":\"cScanRt_D0_3\",\"fTitle\":\"cScanRt_D0_3\",\"fNumPaletteColor\":0,\"fNextPaletteColor\":0}],\"opt\":[\"\",\"\",\"\"]},\"fExecs\":null,\"fName\":\"cScanRt_D0\",\"fTitle\":\"\",\"fNumPaletteColor\":0,\"fNextPaletteColor\":0,\"fDISPLAY\":\"$DISPLAY\",\"fDoubleBuffer\":0,\"fRetained\":true,\"fXsizeUser\":0,\"fYsizeUser\":0,\"fXsizeReal\":20,\"fYsizeReal\":10,\"fWindowTopX\":0,\"fWindowTopY\":0,\"fWindowWidth\":0,\"fWindowHeight\":0,\"fCw\":696,\"fCh\":322,\"fCatt\":{\"_typename\":\"TAttCanvas\",\"fXBetween\":2,\"fYBetween\":2,\"fTitleFromTop\":1.2,\"fXdate\":0.2,\"fYdate\":0.3,\"fAdate\":1},\"kMoveOpaque\":true,\"kResizeOpaque\":true,\"fHighLightColor\":2,\"fBatch\":true,\"kShowEventStatus\":false,\"kAutoExec\":true,\"kMenuBar\":true});\n",
       "       Core.draw(\"root_plot_14\", obj, \"\");\n",
       "     }\n",
       " );\n",
       "</script>\n"
      ],
      "text/plain": [
       "<IPython.core.display.HTML object>"
      ]
     },
     "metadata": {},
     "output_type": "display_data"
    }
   ],
   "source": [
    "c = drawScanResult_DTC(\"Rt\",[-4,2],\"D0\")\n",
    "c.Draw()"
   ]
  },
  {
   "cell_type": "code",
   "execution_count": null,
   "metadata": {},
   "outputs": [],
   "source": []
  }
 ],
 "metadata": {
  "kernelspec": {
   "display_name": "Python 3",
   "language": "python",
   "name": "python3"
  },
  "language_info": {
   "codemirror_mode": {
    "name": "ipython",
    "version": 3
   },
   "file_extension": ".py",
   "mimetype": "text/x-python",
   "name": "python",
   "nbconvert_exporter": "python",
   "pygments_lexer": "ipython3",
   "version": "3.6.5"
  }
 },
 "nbformat": 4,
 "nbformat_minor": 2
}
